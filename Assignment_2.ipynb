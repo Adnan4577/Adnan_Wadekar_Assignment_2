{
 "cells": [
  {
   "cell_type": "code",
   "execution_count": 1,
   "id": "2d8026d5-413b-43b4-ade4-fd881480f882",
   "metadata": {},
   "outputs": [
    {
     "ename": "SyntaxError",
     "evalue": "invalid syntax (3949963346.py, line 1)",
     "output_type": "error",
     "traceback": [
      "\u001b[0;36m  Cell \u001b[0;32mIn[1], line 1\u001b[0;36m\u001b[0m\n\u001b[0;31m    In Python, you can add comments to your code using the # symbol. Anything following the # symbol on a line is considered a comment and is ignored by the Python interpreter. Comments are used to explain the purpose of the code, provide context, or make notes for future reference. Here's an example:\u001b[0m\n\u001b[0m       ^\u001b[0m\n\u001b[0;31mSyntaxError\u001b[0m\u001b[0;31m:\u001b[0m invalid syntax\n"
     ]
    }
   ],
   "source": [
    "In Python, you can add comments to your code using the # symbol. Anything following the # symbol on a line is considered a comment and is ignored by the Python interpreter. Comments are used to explain the purpose of the code, provide context, or make notes for future reference. Here's an example:"
   ]
  },
  {
   "cell_type": "code",
   "execution_count": 2,
   "id": "3019a3e0-e610-4e91-9fab-05f2cfc23bda",
   "metadata": {},
   "outputs": [
    {
     "name": "stdout",
     "output_type": "stream",
     "text": [
      "Hello, world!\n",
      "Hello again!\n"
     ]
    }
   ],
   "source": [
    "# This is a single-line comment\n",
    "\n",
    "print(\"Hello, world!\")  # This is also a comment after code\n",
    "\n",
    "# You can also write comments above the code they're explaining\n",
    "# This code prints a greeting message\n",
    "print(\"Hello again!\")\n"
   ]
  },
  {
   "cell_type": "code",
   "execution_count": 3,
   "id": "f8b83b7c-c689-4f1f-958a-1a5633348aa5",
   "metadata": {},
   "outputs": [
    {
     "ename": "SyntaxError",
     "evalue": "unterminated triple-quoted string literal (detected at line 7) (1191859459.py, line 5)",
     "output_type": "error",
     "traceback": [
      "\u001b[0;36m  Cell \u001b[0;32mIn[3], line 5\u001b[0;36m\u001b[0m\n\u001b[0;31m    Multi-line comments (docstrings): Although not officially comments, multi-line strings are often used as a way to document functions, classes, and modules. These are enclosed in triple quotes (\"\"\" or ''') and can span multiple lines. They are typically used for docstrings (documentation strings) to describe the purpose and usage of functions, classes, or modules. While not ignored by the interpreter, they serve a similar purpose as comments for documenting code.\u001b[0m\n\u001b[0m                                                                                                                                                                                                     ^\u001b[0m\n\u001b[0;31mSyntaxError\u001b[0m\u001b[0;31m:\u001b[0m unterminated triple-quoted string literal (detected at line 7)\n"
     ]
    }
   ],
   "source": [
    "There are two types of comments in Python:\n",
    "\n",
    "Single-line comments: These are comments that appear on a single line and start with the # symbol. Single-line comments continue until the end of the line.\n",
    "\n",
    "Multi-line comments (docstrings): Although not officially comments, multi-line strings are often used as a way to document functions, classes, and modules. These are enclosed in triple quotes (\"\"\" or ''') and can span multiple lines. They are typically used for docstrings (documentation strings) to describe the purpose and usage of functions, classes, or modules. While not ignored by the interpreter, they serve a similar purpose as comments for documenting code.\n",
    "\n",
    "Example of a multi-line comment/docstring:"
   ]
  },
  {
   "cell_type": "code",
   "execution_count": 4,
   "id": "9e1603d5-c2ed-4193-81c9-f7437edcea89",
   "metadata": {},
   "outputs": [
    {
     "data": {
      "text/plain": [
       "'\\nThis is a multi-line comment (docstring) used to document the purpose of a function, class, or module.\\nIt can span multiple lines and is enclosed within triple quotes.\\n'"
      ]
     },
     "execution_count": 4,
     "metadata": {},
     "output_type": "execute_result"
    }
   ],
   "source": [
    "\"\"\"\n",
    "This is a multi-line comment (docstring) used to document the purpose of a function, class, or module.\n",
    "It can span multiple lines and is enclosed within triple quotes.\n",
    "\"\"\""
   ]
  },
  {
   "cell_type": "code",
   "execution_count": 5,
   "id": "4522af79-2dcf-470d-9501-80b6fff83801",
   "metadata": {},
   "outputs": [
    {
     "ename": "SyntaxError",
     "evalue": "invalid syntax (244616688.py, line 1)",
     "output_type": "error",
     "traceback": [
      "\u001b[0;36m  Cell \u001b[0;32mIn[5], line 1\u001b[0;36m\u001b[0m\n\u001b[0;31m    A variable in programming is a symbolic name that represents or refers to a value stored in the computer's memory. It's like a labeled box where you can store information, such as numbers, text, or other data types. Variables allow you to manipulate and work with data in your programs.\u001b[0m\n\u001b[0m      ^\u001b[0m\n\u001b[0;31mSyntaxError\u001b[0m\u001b[0;31m:\u001b[0m invalid syntax\n"
     ]
    }
   ],
   "source": [
    "A variable in programming is a symbolic name that represents or refers to a value stored in the computer's memory. It's like a labeled box where you can store information, such as numbers, text, or other data types. Variables allow you to manipulate and work with data in your programs."
   ]
  },
  {
   "cell_type": "code",
   "execution_count": 9,
   "id": "4dfd622f-53be-4f30-9867-a6bab74b97be",
   "metadata": {},
   "outputs": [],
   "source": [
    "#Below is the example how you declare and assign values to variable\n",
    "a=10"
   ]
  },
  {
   "cell_type": "code",
   "execution_count": 10,
   "id": "93fecba9-95eb-4eba-afc4-11cc3f654b71",
   "metadata": {},
   "outputs": [],
   "source": [
    "#3 How do you convert one data type to another in Python?"
   ]
  },
  {
   "cell_type": "code",
   "execution_count": 15,
   "id": "ba7767b8-d74e-47c2-b542-c1596f6cd1f5",
   "metadata": {},
   "outputs": [],
   "source": [
    "#In Python, you can convert one data type to another using built-in functions called type conversion functions. \n",
    "#Here are some common type conversion functions:"
   ]
  },
  {
   "cell_type": "code",
   "execution_count": 21,
   "id": "05e379c4-fbae-4fd5-b172-97bfef4b66b5",
   "metadata": {},
   "outputs": [],
   "source": [
    "a=int(10)"
   ]
  },
  {
   "cell_type": "code",
   "execution_count": 22,
   "id": "b4291a1c-8235-43d5-97be-c787a550180d",
   "metadata": {},
   "outputs": [
    {
     "data": {
      "text/plain": [
       "10"
      ]
     },
     "execution_count": 22,
     "metadata": {},
     "output_type": "execute_result"
    }
   ],
   "source": [
    "a"
   ]
  },
  {
   "cell_type": "code",
   "execution_count": 23,
   "id": "620e4a6d-f3ea-4837-a2e6-7a23534daedc",
   "metadata": {},
   "outputs": [],
   "source": [
    "b=str(\"Adnan\")"
   ]
  },
  {
   "cell_type": "code",
   "execution_count": 24,
   "id": "f782c8a7-7ad6-41ca-a06e-955a7b4c0cbc",
   "metadata": {},
   "outputs": [],
   "source": [
    "c=float(10.10)\n"
   ]
  },
  {
   "cell_type": "code",
   "execution_count": 28,
   "id": "77eb89ed-a5e1-4ce8-9260-8b8f5b123536",
   "metadata": {},
   "outputs": [],
   "source": [
    "list1=[1,2,3,4,5,6,7,8,9,10]"
   ]
  },
  {
   "cell_type": "code",
   "execution_count": 35,
   "id": "be168955-b255-4ba0-b697-b767c6c5c9e6",
   "metadata": {},
   "outputs": [],
   "source": [
    "tupple=[list1]"
   ]
  },
  {
   "cell_type": "code",
   "execution_count": 36,
   "id": "637d3004-e1f6-4b20-bba3-a96a06c9089a",
   "metadata": {},
   "outputs": [
    {
     "data": {
      "text/plain": [
       "[[1, 2, 3, 4, 5, 6, 7, 8, 9, 10]]"
      ]
     },
     "execution_count": 36,
     "metadata": {},
     "output_type": "execute_result"
    }
   ],
   "source": [
    "tupple"
   ]
  },
  {
   "cell_type": "code",
   "execution_count": 37,
   "id": "fc16f7e1-be5f-44e4-a044-f58875c0f09c",
   "metadata": {},
   "outputs": [],
   "source": [
    "my_list = [(\"a\", 1), (\"b\", 2)]\n",
    "my_dict = dict(my_list)  # Converts the list of tuples to a dictionary: {'a': 1, 'b': 2}"
   ]
  },
  {
   "cell_type": "code",
   "execution_count": 38,
   "id": "bec9e768-f4b1-40fd-87ee-689ce46142ed",
   "metadata": {},
   "outputs": [
    {
     "data": {
      "text/plain": [
       "{'a': 1, 'b': 2}"
      ]
     },
     "execution_count": 38,
     "metadata": {},
     "output_type": "execute_result"
    }
   ],
   "source": [
    "my_dict"
   ]
  },
  {
   "cell_type": "code",
   "execution_count": 39,
   "id": "0548104b-fc2e-4992-bb72-0767d1ed6f90",
   "metadata": {},
   "outputs": [],
   "source": [
    "#"
   ]
  },
  {
   "cell_type": "code",
   "execution_count": 40,
   "id": "56d2bd69-f012-4751-999c-92ad9d06d119",
   "metadata": {},
   "outputs": [
    {
     "ename": "SyntaxError",
     "evalue": "invalid syntax (3003701911.py, line 1)",
     "output_type": "error",
     "traceback": [
      "\u001b[0;36m  Cell \u001b[0;32mIn[40], line 1\u001b[0;36m\u001b[0m\n\u001b[0;31m    Write Your Python Script: Use a text editor (like Notepad, Sublime Text, or VS Code) to write your Python code and save it with a .py extension.\u001b[0m\n\u001b[0m          ^\u001b[0m\n\u001b[0;31mSyntaxError\u001b[0m\u001b[0;31m:\u001b[0m invalid syntax\n"
     ]
    }
   ],
   "source": [
    "#Write Your Python Script: Use a text editor (like Notepad, Sublime Text, or VS Code) to write your Python code and save it with a .py extension. \n",
    "#For example, you can create a file named hello.py with the following content:"
   ]
  },
  {
   "cell_type": "code",
   "execution_count": 41,
   "id": "610f3790-ecfa-4f30-8ed8-f1707aa320b3",
   "metadata": {},
   "outputs": [
    {
     "name": "stdout",
     "output_type": "stream",
     "text": [
      "Hello, world!\n"
     ]
    }
   ],
   "source": [
    "print(\"Hello, world!\")\n"
   ]
  },
  {
   "cell_type": "code",
   "execution_count": 42,
   "id": "b7629211-0dcd-452b-9a57-4258ef221237",
   "metadata": {},
   "outputs": [],
   "source": [
    "#Open the Command Prompt (Windows) or Terminal (macOS/Linux): You need to open the command-line interface on your operating system.\n",
    "\n",
    "#Navigate to the Directory Containing Your Python Script: Use the cd command (change directory) to navigate to the directory where your Python script is saved. For example, if your script is in the Documents folder, you would type:"
   ]
  },
  {
   "cell_type": "code",
   "execution_count": 44,
   "id": "83f96aed-ecad-4868-babe-7b4e72aa4f90",
   "metadata": {},
   "outputs": [
    {
     "ename": "SyntaxError",
     "evalue": "invalid syntax (1935114643.py, line 5)",
     "output_type": "error",
     "traceback": [
      "\u001b[0;36m  Cell \u001b[0;32mIn[44], line 5\u001b[0;36m\u001b[0m\n\u001b[0;31m    python hello.py\u001b[0m\n\u001b[0m           ^\u001b[0m\n\u001b[0;31mSyntaxError\u001b[0m\u001b[0;31m:\u001b[0m invalid syntax\n"
     ]
    }
   ],
   "source": [
    "#cd Documents\n",
    "#Execute the Python Script: Once you're in the correct directory, you can execute your Python script by typing python followed by the name of your script file. For example:\n",
    "\n",
    "\n",
    "python hello.py"
   ]
  },
  {
   "cell_type": "code",
   "execution_count": 45,
   "id": "fb2aa4d3-31f4-4c4a-b4f6-23db7903e326",
   "metadata": {},
   "outputs": [],
   "source": [
    "#5Given a list my_list = [1, 2, 3, 4, 5], write the code to slice the list and obtain the sub-list [2, 3]."
   ]
  },
  {
   "cell_type": "code",
   "execution_count": 46,
   "id": "b8f0e647-b3fa-4276-9585-f824a04b9d70",
   "metadata": {},
   "outputs": [],
   "source": [
    "my_list=[1,2,3,4,5]"
   ]
  },
  {
   "cell_type": "code",
   "execution_count": 48,
   "id": "51973da4-b07f-4337-b1b7-91694f5b6d3e",
   "metadata": {},
   "outputs": [
    {
     "data": {
      "text/plain": [
       "[2, 3]"
      ]
     },
     "execution_count": 48,
     "metadata": {},
     "output_type": "execute_result"
    }
   ],
   "source": [
    "my_list[1:3]"
   ]
  },
  {
   "cell_type": "code",
   "execution_count": 49,
   "id": "e262c50a-2930-4ac8-8ba0-fec285c64565",
   "metadata": {},
   "outputs": [],
   "source": [
    "#6.What is a complex number in mathematics, and how is it represented in Python?\n"
   ]
  },
  {
   "cell_type": "code",
   "execution_count": 50,
   "id": "722a7dc5-8634-4ee7-8ba3-396d9ff0c8a6",
   "metadata": {},
   "outputs": [
    {
     "ename": "SyntaxError",
     "evalue": "invalid character '�' (U+FFFD) (3545279159.py, line 2)",
     "output_type": "error",
     "traceback": [
      "\u001b[0;36m  Cell \u001b[0;32mIn[50], line 2\u001b[0;36m\u001b[0m\n\u001b[0;31m    �\u001b[0m\n\u001b[0m    ^\u001b[0m\n\u001b[0;31mSyntaxError\u001b[0m\u001b[0;31m:\u001b[0m invalid character '�' (U+FFFD)\n"
     ]
    }
   ],
   "source": [
    "A complex number in mathematics is a number of the form \n",
    "�\n",
    "+\n",
    "�\n",
    "�\n",
    "a+bi, where \n",
    "�\n",
    "a and \n",
    "�\n",
    "b are real numbers, and \n",
    "�\n",
    "i is the imaginary unit satisfying \n",
    "�\n",
    "2\n",
    "=\n",
    "−\n",
    "1\n",
    "i \n",
    "2\n",
    " =−1. In Python, complex numbers are represented using the complex() function or the a + bj notation. They are useful for solving equations with no real roots and are supported by Python's arithmetic operations and functions."
   ]
  },
  {
   "cell_type": "code",
   "execution_count": 51,
   "id": "cfc5062c-8df8-43cf-b99f-92844a877ced",
   "metadata": {},
   "outputs": [
    {
     "name": "stdout",
     "output_type": "stream",
     "text": [
      "(2+3j)\n",
      "(4+5j)\n"
     ]
    }
   ],
   "source": [
    "z1 = complex(2, 3)  # Create a complex number with real part 2 and imaginary part 3\n",
    "print(z1)  # Output: (2+3j)\n",
    "\n",
    "z2 = 4 + 5j  # Create a complex number using the + operator\n",
    "print(z2)  # Output: (4+5j)\n"
   ]
  },
  {
   "cell_type": "code",
   "execution_count": 52,
   "id": "7187bcb8-b3c6-4bd8-a1c2-1158b8115e6c",
   "metadata": {},
   "outputs": [],
   "source": [
    "#7.What is the correct way to declare a variable named age and assign the value 25 to it?"
   ]
  },
  {
   "cell_type": "code",
   "execution_count": 53,
   "id": "7b2893c9-f07d-47bd-a798-b4bf3683c8d0",
   "metadata": {},
   "outputs": [],
   "source": [
    "age=int(25)"
   ]
  },
  {
   "cell_type": "code",
   "execution_count": 54,
   "id": "d58245cd-7acf-43a3-b194-a20d54e96ee1",
   "metadata": {},
   "outputs": [
    {
     "data": {
      "text/plain": [
       "25"
      ]
     },
     "execution_count": 54,
     "metadata": {},
     "output_type": "execute_result"
    }
   ],
   "source": [
    "age"
   ]
  },
  {
   "cell_type": "code",
   "execution_count": 55,
   "id": "0784514a-dbee-4a7f-bf0d-af9939df9a6c",
   "metadata": {},
   "outputs": [
    {
     "data": {
      "text/plain": [
       "int"
      ]
     },
     "execution_count": 55,
     "metadata": {},
     "output_type": "execute_result"
    }
   ],
   "source": [
    "type(age)"
   ]
  },
  {
   "cell_type": "code",
   "execution_count": 56,
   "id": "6c3856c0-d9ae-4893-bbc3-666e45263424",
   "metadata": {},
   "outputs": [],
   "source": [
    "#8.Declare a variable named price and assign the value 9.99 to it. What data type does this variable\n",
    "#belong to?"
   ]
  },
  {
   "cell_type": "code",
   "execution_count": 57,
   "id": "a5b03465-7bde-463b-831c-5fa765a02345",
   "metadata": {},
   "outputs": [],
   "source": [
    "price=9.99"
   ]
  },
  {
   "cell_type": "code",
   "execution_count": 58,
   "id": "b6d38fbb-744a-402c-a3d1-1aff3d6dde8d",
   "metadata": {},
   "outputs": [
    {
     "data": {
      "text/plain": [
       "float"
      ]
     },
     "execution_count": 58,
     "metadata": {},
     "output_type": "execute_result"
    }
   ],
   "source": [
    "type(price)"
   ]
  },
  {
   "cell_type": "code",
   "execution_count": 59,
   "id": "2c5a209b-79d7-4e59-a2c5-5dfd0c25de0b",
   "metadata": {},
   "outputs": [],
   "source": [
    "# It belongs to float data type"
   ]
  },
  {
   "cell_type": "code",
   "execution_count": 60,
   "id": "83ea743c-99ab-4c75-ae7a-07c99de5f1b9",
   "metadata": {},
   "outputs": [],
   "source": [
    "#9.Create a variable named name and assign your full name to it as a string. How would you print the\n",
    "#value of this variable?"
   ]
  },
  {
   "cell_type": "code",
   "execution_count": 61,
   "id": "e10ce352-58a5-409a-b353-1356accd999b",
   "metadata": {},
   "outputs": [],
   "source": [
    "name=str(\"Adnan Wadekar\")"
   ]
  },
  {
   "cell_type": "code",
   "execution_count": 62,
   "id": "16b31786-c7ed-4e0c-b342-8dc5c81634ef",
   "metadata": {},
   "outputs": [
    {
     "name": "stdout",
     "output_type": "stream",
     "text": [
      "Adnan Wadekar\n"
     ]
    }
   ],
   "source": [
    "print(name)"
   ]
  },
  {
   "cell_type": "code",
   "execution_count": 63,
   "id": "f1050c60-b0fc-492d-b909-5a571ae03b0b",
   "metadata": {},
   "outputs": [],
   "source": [
    "#Q10. Given the string \"Hello, World!\", extract the substring \"World\"."
   ]
  },
  {
   "cell_type": "code",
   "execution_count": 64,
   "id": "d330ce4c-37c9-40ba-9d7d-9b26c74326b2",
   "metadata": {},
   "outputs": [],
   "source": [
    "str1=\"Hello World!\""
   ]
  },
  {
   "cell_type": "code",
   "execution_count": 66,
   "id": "0f1bf1d7-f02a-47db-bf76-07e9141cd598",
   "metadata": {},
   "outputs": [
    {
     "data": {
      "text/plain": [
       "'World'"
      ]
     },
     "execution_count": 66,
     "metadata": {},
     "output_type": "execute_result"
    }
   ],
   "source": [
    "str1[6:11]"
   ]
  },
  {
   "cell_type": "code",
   "execution_count": 67,
   "id": "06db75f4-ec12-4560-9be5-4c0b7618476b",
   "metadata": {},
   "outputs": [],
   "source": [
    "#Create a variable named \"is_student\" and assign it a boolean value indicating whether you are\n",
    "#currently a student or not."
   ]
  },
  {
   "cell_type": "code",
   "execution_count": 68,
   "id": "7ea19e28-0f30-41cf-bdce-bc08ba7e6fb0",
   "metadata": {},
   "outputs": [],
   "source": [
    "is_student=1"
   ]
  },
  {
   "cell_type": "code",
   "execution_count": 72,
   "id": "396a63eb-0a26-44ab-8c6d-fa6d4adf4162",
   "metadata": {},
   "outputs": [
    {
     "ename": "TypeError",
     "evalue": "Kernel.raw_input() takes from 1 to 2 positional arguments but 3 were given",
     "output_type": "error",
     "traceback": [
      "\u001b[0;31m---------------------------------------------------------------------------\u001b[0m",
      "\u001b[0;31mTypeError\u001b[0m                                 Traceback (most recent call last)",
      "Cell \u001b[0;32mIn[72], line 1\u001b[0m\n\u001b[0;32m----> 1\u001b[0m a\u001b[38;5;241m=\u001b[39m\u001b[38;5;28;43minput\u001b[39;49m\u001b[43m(\u001b[49m\u001b[43m(\u001b[49m\u001b[38;5;124;43m\"\u001b[39;49m\u001b[38;5;124;43mEnter 1 if you are a Student\u001b[39;49m\u001b[38;5;124;43m\"\u001b[39;49m\u001b[43m)\u001b[49m\u001b[43m,\u001b[49m\u001b[38;5;28;43mint\u001b[39;49m\u001b[43m)\u001b[49m\n",
      "\u001b[0;31mTypeError\u001b[0m: Kernel.raw_input() takes from 1 to 2 positional arguments but 3 were given"
     ]
    }
   ],
   "source": [
    "a=input((\"Enter 1 if you are a Student\"),int)"
   ]
  },
  {
   "cell_type": "code",
   "execution_count": 70,
   "id": "9055c70d-a1ec-4181-91dc-b1b95e0bad74",
   "metadata": {},
   "outputs": [
    {
     "data": {
      "text/plain": [
       "'1'"
      ]
     },
     "execution_count": 70,
     "metadata": {},
     "output_type": "execute_result"
    }
   ],
   "source": [
    "a"
   ]
  },
  {
   "cell_type": "code",
   "execution_count": 73,
   "id": "dd830569-a2b4-4e94-a2b7-212bf6f1e104",
   "metadata": {},
   "outputs": [
    {
     "name": "stdin",
     "output_type": "stream",
     "text": [
      "Are you a student? If yes, enter '1':  0\n"
     ]
    },
    {
     "name": "stdout",
     "output_type": "stream",
     "text": [
      "is_student: False\n"
     ]
    }
   ],
   "source": [
    "user_input = input(\"Are you a student? If yes, enter '1': \")\n",
    "\n",
    "if user_input == '1':\n",
    "    is_student = True\n",
    "else:\n",
    "    is_student = False\n",
    "\n",
    "print(\"is_student:\", is_student)"
   ]
  },
  {
   "cell_type": "code",
   "execution_count": null,
   "id": "a8d8b65e-8e26-422a-8ae8-cf8e3e274ea7",
   "metadata": {},
   "outputs": [],
   "source": []
  }
 ],
 "metadata": {
  "kernelspec": {
   "display_name": "Python 3 (ipykernel)",
   "language": "python",
   "name": "python3"
  },
  "language_info": {
   "codemirror_mode": {
    "name": "ipython",
    "version": 3
   },
   "file_extension": ".py",
   "mimetype": "text/x-python",
   "name": "python",
   "nbconvert_exporter": "python",
   "pygments_lexer": "ipython3",
   "version": "3.10.8"
  }
 },
 "nbformat": 4,
 "nbformat_minor": 5
}
